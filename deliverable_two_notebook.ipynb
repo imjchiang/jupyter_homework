{
 "cells": [
  {
   "cell_type": "code",
   "execution_count": 1,
   "metadata": {},
   "outputs": [],
   "source": [
    "# recursion"
   ]
  },
  {
   "cell_type": "code",
   "execution_count": 2,
   "metadata": {},
   "outputs": [],
   "source": [
    "def coin_flips(n, results=[\"No Coin Flips\"]):\n",
    "    # base case\n",
    "    if n <= 0:\n",
    "        return results\n",
    "    # initial recursive case\n",
    "    elif (results == [\"No Coin Flips\"]):\n",
    "        results = [\"H\", \"T\"]\n",
    "        return coin_flips(n - 1, results)\n",
    "    # other recursive cases\n",
    "    length = len(results)\n",
    "    results *= 2\n",
    "    # add \"H\" to first half\n",
    "    i = 0\n",
    "    while (i < length):\n",
    "        results[i] += \"H\"\n",
    "        i += 1\n",
    "    # add \"T\" to second half\n",
    "    while (i >= length and i < len(results)):\n",
    "        results[i] += \"T\"\n",
    "        i += 1\n",
    "    return coin_flips(n - 1, results)"
   ]
  },
  {
   "cell_type": "code",
   "execution_count": null,
   "metadata": {},
   "outputs": [],
   "source": []
  }
 ],
 "metadata": {
  "kernelspec": {
   "display_name": "Python 3",
   "language": "python",
   "name": "python3"
  },
  "language_info": {
   "codemirror_mode": {
    "name": "ipython",
    "version": 3
   },
   "file_extension": ".py",
   "mimetype": "text/x-python",
   "name": "python",
   "nbconvert_exporter": "python",
   "pygments_lexer": "ipython3",
   "version": "3.8.5"
  }
 },
 "nbformat": 4,
 "nbformat_minor": 4
}
