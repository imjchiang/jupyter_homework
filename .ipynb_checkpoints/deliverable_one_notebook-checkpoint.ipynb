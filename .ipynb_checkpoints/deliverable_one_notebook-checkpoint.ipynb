{
 "cells": [
  {
   "cell_type": "code",
   "execution_count": 7,
   "metadata": {},
   "outputs": [],
   "source": [
    "# bubble sort"
   ]
  },
  {
   "cell_type": "code",
   "execution_count": 8,
   "metadata": {},
   "outputs": [],
   "source": [
    "import random"
   ]
  },
  {
   "cell_type": "code",
   "execution_count": 10,
   "metadata": {},
   "outputs": [],
   "source": [
    "# random list generator\n",
    "def random_num(num, random_list=[]):\n",
    "    if (num > 0):\n",
    "        random_list.append(random.randint(-999, 999))\n",
    "        return random_num(num - 1, random_list)\n",
    "    return random_list"
   ]
  },
  {
   "cell_type": "code",
   "execution_count": 12,
   "metadata": {},
   "outputs": [],
   "source": [
    "def bubble_sort(num_list):\n",
    "    n = len(num_list)\n",
    "    for i in range(n):\n",
    "        for j in range(0, n - i -1):\n",
    "            # Swap if elements found are greater than previous elements\n",
    "            if (num_list[j] > num_list[j + 1]):\n",
    "                # Shorthand for swapping values in python\n",
    "                num_list[j], num_list[j + 1] = num_list[j + 1], num_list[j]\n",
    "    print(num_list)\n",
    "    return num_list"
   ]
  },
  {
   "cell_type": "code",
   "execution_count": null,
   "metadata": {},
   "outputs": [],
   "source": []
  }
 ],
 "metadata": {
  "kernelspec": {
   "display_name": "Python 3",
   "language": "python",
   "name": "python3"
  },
  "language_info": {
   "codemirror_mode": {
    "name": "ipython",
    "version": 3
   },
   "file_extension": ".py",
   "mimetype": "text/x-python",
   "name": "python",
   "nbconvert_exporter": "python",
   "pygments_lexer": "ipython3",
   "version": "3.8.5"
  }
 },
 "nbformat": 4,
 "nbformat_minor": 4
}
